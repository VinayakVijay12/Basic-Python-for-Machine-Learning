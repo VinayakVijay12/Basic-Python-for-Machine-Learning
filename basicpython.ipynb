{
  "nbformat": 4,
  "nbformat_minor": 0,
  "metadata": {
    "colab": {
      "provenance": [],
      "authorship_tag": "ABX9TyMpN7hBA8uO0c9FnQN10t1e",
      "include_colab_link": true
    },
    "kernelspec": {
      "name": "python3",
      "display_name": "Python 3"
    },
    "language_info": {
      "name": "python"
    }
  },
  "cells": [
    {
      "cell_type": "markdown",
      "metadata": {
        "id": "view-in-github",
        "colab_type": "text"
      },
      "source": [
        "<a href=\"https://colab.research.google.com/github/VinayakVijay12/Basic-Python-for-Machine-Learning/blob/main/basicpython.ipynb\" target=\"_parent\"><img src=\"https://colab.research.google.com/assets/colab-badge.svg\" alt=\"Open In Colab\"/></a>"
      ]
    },
    {
      "cell_type": "code",
      "execution_count": null,
      "metadata": {
        "id": "DtAWGqAUHKvW"
      },
      "outputs": [],
      "source": []
    },
    {
      "cell_type": "markdown",
      "source": [
        "# introduction to `python`\n",
        "\n",
        "First program:Display Hello"
      ],
      "metadata": {
        "id": "ky9_OxKSJBJV"
      }
    },
    {
      "cell_type": "code",
      "source": [
        "print(\"Hello\")"
      ],
      "metadata": {
        "colab": {
          "base_uri": "https://localhost:8080/"
        },
        "id": "f3TxC7lIJk87",
        "outputId": "2a0822e5-7f2c-465c-eb7c-eb64a5183c9c"
      },
      "execution_count": 1,
      "outputs": [
        {
          "output_type": "stream",
          "name": "stdout",
          "text": [
            "Hello\n"
          ]
        }
      ]
    },
    {
      "cell_type": "markdown",
      "source": [
        ">Program to assign an integer displa"
      ],
      "metadata": {
        "id": "ZO2SsmKoK-_j"
      }
    },
    {
      "cell_type": "code",
      "source": [
        "a=10\n",
        "print(\"The value of a is\",a)"
      ],
      "metadata": {
        "colab": {
          "base_uri": "https://localhost:8080/"
        },
        "id": "CngIxCE1KZBM",
        "outputId": "b749326c-c523-4e21-b6a5-01c69c662015"
      },
      "execution_count": 4,
      "outputs": [
        {
          "output_type": "stream",
          "name": "stdout",
          "text": [
            "The value of a is 10\n"
          ]
        }
      ]
    },
    {
      "cell_type": "markdown",
      "source": [
        "> Program to find sum of numbers"
      ],
      "metadata": {
        "id": "tUt16T5QLr8b"
      }
    },
    {
      "cell_type": "code",
      "source": [
        "a=10\n",
        "b=30\n",
        "print(\"Sum of a and b is\", a+b)"
      ],
      "metadata": {
        "colab": {
          "base_uri": "https://localhost:8080/"
        },
        "id": "bjYI0viALW30",
        "outputId": "636621b8-9210-4cc7-ffd0-81266f2c124d"
      },
      "execution_count": 5,
      "outputs": [
        {
          "output_type": "stream",
          "name": "stdout",
          "text": [
            "Sum of a and b is 40\n"
          ]
        }
      ]
    },
    {
      "cell_type": "markdown",
      "source": [
        "> Read two numbers from user and find sum\n"
      ],
      "metadata": {
        "id": "VTpNm2PjMCbT"
      }
    },
    {
      "cell_type": "code",
      "source": [
        "a=int(input(\"Enter first number\"))\n",
        "b=int(input(\"Enter second number\"))\n",
        "print(\"sum is:\", a+b)"
      ],
      "metadata": {
        "colab": {
          "base_uri": "https://localhost:8080/"
        },
        "id": "rcfvcxqtMJDu",
        "outputId": "ff378d55-fb2f-4f17-d2c7-3d4a7d730578"
      },
      "execution_count": 9,
      "outputs": [
        {
          "output_type": "stream",
          "name": "stdout",
          "text": [
            "Enter first number3\n",
            "Enter second number6\n",
            "sum is: 9\n"
          ]
        }
      ]
    }
  ]
}